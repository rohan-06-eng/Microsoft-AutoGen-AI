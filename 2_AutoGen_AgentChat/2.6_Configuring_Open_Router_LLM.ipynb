{
 "cells": [
  {
   "cell_type": "markdown",
   "id": "e43b7400",
   "metadata": {},
   "source": [
    "# Using Autogen with OpenRouter API"
   ]
  },
  {
   "cell_type": "code",
   "execution_count": 4,
   "id": "5680fc26",
   "metadata": {},
   "outputs": [],
   "source": [
    "import asyncio\n",
    "from autogen_agentchat.agents import AssistantAgent\n",
    "from autogen_agentchat.teams import SelectorGroupChat\n",
    "from autogen_ext.models.openai import OpenAIChatCompletionClient\n",
    "from autogen_agentchat.conditions import TextMentionTermination\n",
    "from dotenv import load_dotenv\n",
    "import os\n",
    "\n",
    "# Load API key\n",
    "load_dotenv()\n",
    "open_router_api_key = os.getenv('OPENROUTER_API_KEY')"
   ]
  },
  {
   "cell_type": "code",
   "execution_count": 5,
   "id": "766b80f9",
   "metadata": {},
   "outputs": [
    {
     "name": "stderr",
     "output_type": "stream",
     "text": [
      "c:\\PythonMSAutoGen\\venv\\Lib\\site-packages\\autogen_ext\\models\\openai\\_openai_client.py:439: UserWarning: Missing required field 'structured_output' in ModelInfo. This field will be required in a future version of AutoGen.\n",
      "  validate_model_info(self._model_info)\n"
     ]
    }
   ],
   "source": [
    "open_router_model_client =  OpenAIChatCompletionClient(\n",
    "    base_url=\"https://openrouter.ai/api/v1\",\n",
    "    model=\"deepseek/deepseek-r1-0528:free\",\n",
    "    api_key = open_router_api_key,\n",
    "    model_info={\n",
    "        \"family\":'deepseek',\n",
    "        \"vision\" :True,\n",
    "        \"function_calling\":True,\n",
    "        \"json_output\": False\n",
    "    }\n",
    ")"
   ]
  },
  {
   "cell_type": "code",
   "execution_count": 6,
   "id": "f95f51cd",
   "metadata": {},
   "outputs": [],
   "source": [
    "assistant_agent1 = AssistantAgent(\n",
    "    name = 'helpful_agent',\n",
    "    model_client = open_router_model_client,\n",
    "    system_message='You are a helpful assistant Agent'\n",
    ")"
   ]
  },
  {
   "cell_type": "code",
   "execution_count": 7,
   "id": "f7c53172",
   "metadata": {},
   "outputs": [
    {
     "name": "stdout",
     "output_type": "stream",
     "text": [
      "<think>Alright, the user asked, \"What is the capital of India?\" Let me think. Okay, I know that countries sometimes change their capitals, but I'm pretty sure India's capital has been the same for a while. New Delhi comes to mind immediately. Wait, is that the official answer? Let me double-check.\n",
      "\n",
      "India is a country in South Asia, and I remember that New Delhi is the capital. But sometimes people confuse New Delhi and Delhi. The city is Delhi, and New Delhi is a part of it that serves as the capital. Yes, that's right. The government buildings, like the Parliament and the President's residence, are in New Delhi. So the correct answer should be New Delhi.\n",
      "\n",
      "Wait, maybe I should confirm the distinction between Delhi and New Delhi. Some might think they're the same, but technically, New Delhi is a district within the larger Delhi metropolitan area. The capital is specifically New Delhi. I should make that clear in the answer to avoid confusion. So the answer is New Delhi, the capital of India.\n",
      "</think>\n",
      "\n",
      "The capital of India is New Delhi. New Delhi serves as the administrative and political center of the country and is a distinct district within the larger National Capital Territory of Delhi.\n"
     ]
    }
   ],
   "source": [
    "result = await assistant_agent1.run(task = 'What is the capital of India ?')\n",
    "print(result.messages[-1].content)"
   ]
  }
 ],
 "metadata": {
  "kernelspec": {
   "display_name": "Python 3",
   "language": "python",
   "name": "python3"
  },
  "language_info": {
   "codemirror_mode": {
    "name": "ipython",
    "version": 3
   },
   "file_extension": ".py",
   "mimetype": "text/x-python",
   "name": "python",
   "nbconvert_exporter": "python",
   "pygments_lexer": "ipython3",
   "version": "3.12.0"
  }
 },
 "nbformat": 4,
 "nbformat_minor": 5
}
