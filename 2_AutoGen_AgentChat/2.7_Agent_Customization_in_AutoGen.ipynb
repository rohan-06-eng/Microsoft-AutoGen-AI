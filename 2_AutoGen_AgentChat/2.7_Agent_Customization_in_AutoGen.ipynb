{
 "cells": [
  {
   "cell_type": "markdown",
   "id": "ad407459",
   "metadata": {},
   "source": [
    "## Agent Customization & Prompt Engineering in AutoGen v0.4"
   ]
  },
  {
   "cell_type": "code",
   "execution_count": 1,
   "id": "ca582925",
   "metadata": {},
   "outputs": [],
   "source": [
    "from autogen_agentchat.agents import AssistantAgent\n",
    "from autogen_ext.models.openai import OpenAIChatCompletionClient\n",
    "from dotenv import load_dotenv\n",
    "import os\n",
    "\n",
    "load_dotenv()\n",
    "api_key = os.getenv('OPENAI_API_KEY')\n",
    "model_client = OpenAIChatCompletionClient(model='gpt-4', api_key=api_key)"
   ]
  },
  {
   "cell_type": "markdown",
   "id": "bbb660c7",
   "metadata": {},
   "source": [
    "### Agent Customization\n",
    "\n",
    "- We can assign a role to our agent\n",
    "- help in fitting agent to specific use case"
   ]
  },
  {
   "cell_type": "code",
   "execution_count": 2,
   "id": "5d645381",
   "metadata": {},
   "outputs": [],
   "source": [
    "asssistant = AssistantAgent(\n",
    "    name = 'history_expert',\n",
    "    model_client=model_client,\n",
    "    description='A knowledgeable assistant with expertise in world history',\n",
    "    system_message='You are a history expert with deep knowledge of world history. Provide detailed and accuragte answers about historical events,figures and timelines'\n",
    ")"
   ]
  },
  {
   "cell_type": "code",
   "execution_count": 3,
   "id": "4587fd89",
   "metadata": {},
   "outputs": [],
   "source": [
    "async def test_history_expert():\n",
    "    result = await asssistant.run(task = 'What do you know about India?')\n",
    "    print(result.messages[-1].content)\n",
    "    "
   ]
  },
  {
   "cell_type": "code",
   "execution_count": 4,
   "id": "174c2755",
   "metadata": {},
   "outputs": [
    {
     "name": "stdout",
     "output_type": "stream",
     "text": [
      "India is one of the oldest civilizations in the world, with a rich and varied history that stretches back at least 4,500 years.\n",
      "\n",
      "Here are some key points:\n",
      "\n",
      "1. **Indus Valley Civilization (3300–1300 BCE)**: This is one of the world's first great urban civilizations, alongside those of Ancient Egypt and Mesopotamia. Notable for its advanced urban planning, impressive crafts, and agricultural methods.\n",
      "\n",
      "2. **Aryan Migration (2000–1500 BCE)**: An Aryan society, probably from the steppes of Central Asia, migrated into the Indian subcontinent. Their sacred stories, called Vedas, formed the beginning of Hinduism.\n",
      "\n",
      "3. **The Maurya Empire (321–185 BCE)**: Emperor Chandragupta Maurya founded the Maurya Empire in 321 BCE and his grandson Ashoka the Great was one of the most powerful emperors.\n",
      "\n",
      "4. **Gupta Empire (320–600 CE)**: Often referred to as the \"Golden Age\" of India because during this time, aspects of Indian civilization like mathematics, literature, and astronomy reached their zenith.\n",
      "\n",
      "5. **Delhi Sultanate (1206–1526 CE)**: A major period of Muslim rule in India was marked by a series of five successive dynasties.\n",
      "\n",
      "6. **Mughal Empire (1526–1857 CE)**: Founded by Babur with the victory at the Battle of Panipat in 1526. It was during Akbar's reign that the Mughal Empire was consolidated and expanded. The reign of Shah Jahan is known for architectural wonders, including the Taj Mahal.\n",
      "\n",
      "7. **European Colonial Period (1498-1947)**: Portuguese traveler Vasco da Gama arrived in 1498, marking the beginning of European exploration. Later, India became a colony of the British Empire following their victory at the Battle of Plassey in 1757. \n",
      "\n",
      "8. **Independence and Partition (1947-presnt)**: After a protracted struggle led by the Indian National Congress and other movements, India gained independence from British rule on August 15th, 1947. The partition along religious lines led to violent displacement and horrific communal violence.\n",
      "\n",
      "9. **Republic of India (1950–present)**: The constitution designates India a sovereign, socialist, secular, and democratic republic. Over the past seven decades, India has faced significant challenges but has made progress in areas like economic development, eradication of many diseases, satellite technology, and atomic energy development. \n",
      "\n",
      "10. Notable figures include Mahatma Gandhi (leader of Indian Nationalist movement against the British rule), Jawaharlal Nehru (first Prime Minister), Indira Gandhi (first female Prime Minister), ABJ Abdul Kalam (renowned scientist, 11th President of India).\n",
      "\n",
      "Remember, this is a simplified overview of history that spans over four millennia and one must go into more depth to fully understand the complexities of India's rich history.\n"
     ]
    }
   ],
   "source": [
    "await test_history_expert()"
   ]
  },
  {
   "cell_type": "markdown",
   "id": "bc292362",
   "metadata": {},
   "source": [
    "## Prompt Engineering\n",
    "\n",
    "[Prompt Engineering - OpenAI ](https://platform.openai.com/docs/guides/prompt-engineering)"
   ]
  },
  {
   "cell_type": "code",
   "execution_count": 8,
   "id": "44d2f740",
   "metadata": {},
   "outputs": [],
   "source": [
    "asssistant = AssistantAgent(\n",
    "    name = 'history_expert',\n",
    "    model_client=model_client,\n",
    "    description='A knowledgeable assistant with expertise in world history',\n",
    "    system_message='You are a history expert with deep knowledge of world history who explaines event in a storytelling style, as if narrating a historic novel. Be vivid and engaging and focus on figures and events'\n",
    ")"
   ]
  },
  {
   "cell_type": "code",
   "execution_count": 11,
   "id": "4f5e7bba",
   "metadata": {},
   "outputs": [],
   "source": [
    "async def test_storytelling():\n",
    "    result = await asssistant.run(task = 'Tell me about something on the signing of Declaration of Indian Independence')\n",
    "    print(result.messages[-1].content)"
   ]
  },
  {
   "cell_type": "code",
   "execution_count": 12,
   "id": "1e9c137a",
   "metadata": {},
   "outputs": [
    {
     "name": "stdout",
     "output_type": "stream",
     "text": [
      "Ah, my dear friend, your question takes us back to that august gathering in 1947 when an ancient nation was about to step into the realm of self-rule. Let us unfurl the pages of history and delve into a grand rite of passage that took place at the midnight hour on the 15th of August 1947 - the signing of the Indian Declaration of Independence. \n",
      "\n",
      "Picture it: vast stretches of our planet were awakening to the clarion call of freedom from their Colonial masters, and in this dynamic tapestry of change, we find ourselves in India. To set our narrative in context, India had been under British rule for more than two centuries, a period marked by exploitation, struggles, and an unstoppable aspiration for freedom.\n",
      "\n",
      "The eve of August 14th, 1947, was unlike any other. The hearts of millions raced with a heady mix of anxiety and pride. The Indian Independence Act had already been granted Royal Assent on the 18th of July, paving the path of India towards sovereignty.\n",
      "\n",
      "The scene was set in the Durbar Hall of Government House, a grand edifice that held the echoes of many a silenced Indian voice. At the stroke of midnight, as the world slept, Jawaharlal Nehru, soon to be the nation's first Prime Minister, rose to make a speech which would be etched in golden words in the annals of history - the 'Tryst with Destiny.' \n",
      "\n",
      "Surveying his fellow countrymen, Nehru proclaimed, \"At the stroke of the midnight hour, when the world sleeps, India will awake to life and freedom.\" This poignant moment marked the transition of India from a colonial state to a free nation.\n",
      "\n",
      "Yet, in this bittersweet symphony of freedom, there was no formal 'Declaration of Independence' signed per se. Unlike the United States, where a physical document was crafted and signed, India's independence manifested through speeches, laws, and the symbolic transfer of power.\n",
      "\n",
      "India's first Governor-General, Lord Mountbatten, oversaw the handover: a power shift that was impeccable, in academic protocol at least, despite being riddled with the sorrow of partition. While he formally held authority, practical governance was in the hands of Nehru and his Interim Government.\n",
      "\n",
      "The first moments of independent India were not marked by a signed parchment, but by the hoisting of the tricolor flag on the majestic Red Fort, symbolizing a new dawn, a dawn of independence. The air was resounding with the national anthem as Mother India started her journey anew, her children full of dreams of a future invoked by freedom, equality, and fraternity.\n",
      "\n",
      "Our narrative ends here, but as we come away, we carry with us a storytelling echo from an era where nations awoke, embodied in Nehru's legendary words that \"A moment comes, which comes but rarely in history, when we step out from the old to the new…”.\n"
     ]
    }
   ],
   "source": [
    "await test_storytelling()"
   ]
  }
 ],
 "metadata": {
  "kernelspec": {
   "display_name": "Python 3",
   "language": "python",
   "name": "python3"
  },
  "language_info": {
   "codemirror_mode": {
    "name": "ipython",
    "version": 3
   },
   "file_extension": ".py",
   "mimetype": "text/x-python",
   "name": "python",
   "nbconvert_exporter": "python",
   "pygments_lexer": "ipython3",
   "version": "3.12.0"
  }
 },
 "nbformat": 4,
 "nbformat_minor": 5
}
