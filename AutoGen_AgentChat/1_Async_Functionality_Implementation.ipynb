{
 "cells": [
  {
   "cell_type": "markdown",
   "id": "bd8b24fe",
   "metadata": {},
   "source": [
    "# Async Functionality in Python"
   ]
  },
  {
   "cell_type": "markdown",
   "id": "f6429b98",
   "metadata": {},
   "source": [
    "#### We want to have Hot Choclate and Toast in the morning after waking up"
   ]
  },
  {
   "cell_type": "markdown",
   "id": "7d564f44",
   "metadata": {},
   "source": [
    "## Synchronous or Normal Version"
   ]
  },
  {
   "cell_type": "code",
   "execution_count": 4,
   "id": "eec93c18",
   "metadata": {},
   "outputs": [
    {
     "name": "stdout",
     "output_type": "stream",
     "text": [
      "Brewing Hot Choclate\n",
      "Hot Choclate Ready\n",
      "Toasting Toast\n",
      "Toast Ready\n",
      "Time : 5.00 minutes\n"
     ]
    }
   ],
   "source": [
    "import time\n",
    "def brew_Hot_Choclate():\n",
    "    print(\"Brewing Hot Choclate\")\n",
    "    time.sleep(3) # 3 Minutes\n",
    "    print(\"Hot Choclate Ready\")\n",
    "\n",
    "def toast_Toast():\n",
    "    print(\"Toasting Toast\")\n",
    "    time.sleep(2) # 2 Minutes\n",
    "    print(\"Toast Ready\")\n",
    "\n",
    "\n",
    "def main():\n",
    "    start = time.time()\n",
    "\n",
    "    Hot_Choclate = brew_Hot_Choclate()\n",
    "    # time.sleep(2)\n",
    "    Toast = toast_Toast()\n",
    "\n",
    "    end = time.time()\n",
    "    \n",
    "    print(f\"Time : {end - start:.2f} minutes\")\n",
    "\n",
    "main()"
   ]
  },
  {
   "cell_type": "markdown",
   "id": "9403f9d4",
   "metadata": {},
   "source": [
    "## Asynchronous Version"
   ]
  },
  {
   "cell_type": "code",
   "execution_count": 5,
   "id": "f66b0f7c",
   "metadata": {},
   "outputs": [
    {
     "name": "stdout",
     "output_type": "stream",
     "text": [
      "Starting Brewing Hot Choclate\n",
      "Start Toasting Toast\n",
      "Toast Ready\n",
      "Hot Choclate Ready\n",
      "Time : 3.01 minutes\n"
     ]
    }
   ],
   "source": [
    "import asyncio\n",
    "import time\n",
    "\n",
    "async def brew_Hot_Choclate():\n",
    "    print(\"Starting Brewing Hot Choclate\")\n",
    "    await asyncio.sleep(3)\n",
    "    print(\"Hot Choclate Ready\")\n",
    "\n",
    "async def toast_Toast():\n",
    "    print(\"Start Toasting Toast\")\n",
    "    await asyncio.sleep(2)\n",
    "    print(\"Toast Ready\")\n",
    "\n",
    "\n",
    "async def main():\n",
    "    start = time.time()\n",
    "\n",
    "    Hot_Choclate = brew_Hot_Choclate()\n",
    "    Toast = toast_Toast()\n",
    "\n",
    "    results = await asyncio.gather(Hot_Choclate,Toast)\n",
    "\n",
    "    end = time.time()\n",
    "\n",
    "    print(f\"Time : {end - start:.2f} minutes\")\n",
    "\n",
    "\n",
    "await main()"
   ]
  },
  {
   "cell_type": "markdown",
   "id": "b7201f66",
   "metadata": {},
   "source": [
    "## With Tasks"
   ]
  },
  {
   "cell_type": "code",
   "execution_count": 6,
   "id": "9de843eb",
   "metadata": {},
   "outputs": [
    {
     "name": "stdout",
     "output_type": "stream",
     "text": [
      "Starting Brewing Hot Choclate\n",
      "Start Toasting Toast\n",
      "Toast Ready\n",
      "Hot Choclate Ready\n",
      "Time : 3.01 minutes\n"
     ]
    }
   ],
   "source": [
    "import asyncio\n",
    "import time\n",
    "\n",
    "async def brew_Hot_Choclate_async():\n",
    "    print(\"Starting Brewing Hot Choclate\")\n",
    "    await asyncio.sleep(3)\n",
    "    print(\"Hot Choclate Ready\")\n",
    "\n",
    "async def toast_Toast_async():\n",
    "    print(\"Start Toasting Toast\")\n",
    "    await asyncio.sleep(2)\n",
    "    print(\"Toast Ready\")\n",
    "\n",
    "async def main_individual():\n",
    "    start = time.time()\n",
    "    Hot_Choclate_task = asyncio.create_task(brew_Hot_Choclate_async())\n",
    "    Toast_task = asyncio.create_task(toast_Toast_async())\n",
    "\n",
    "    Hot_Choclate = await Hot_Choclate_task\n",
    "    Toast = await Toast_task\n",
    "\n",
    "    end = time.time()\n",
    "    print(f\"Time : {end - start:.2f} minutes\")\n",
    "\n",
    "\n",
    "await (main_individual())\n",
    "\n"
   ]
  }
 ],
 "metadata": {
  "kernelspec": {
   "display_name": "Python 3",
   "language": "python",
   "name": "python3"
  },
  "language_info": {
   "codemirror_mode": {
    "name": "ipython",
    "version": 3
   },
   "file_extension": ".py",
   "mimetype": "text/x-python",
   "name": "python",
   "nbconvert_exporter": "python",
   "pygments_lexer": "ipython3",
   "version": "3.12.0"
  }
 },
 "nbformat": 4,
 "nbformat_minor": 5
}
