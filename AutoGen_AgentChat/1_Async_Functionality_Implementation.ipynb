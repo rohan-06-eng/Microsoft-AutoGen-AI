{
 "cells": [
  {
   "cell_type": "markdown",
   "id": "bd8b24fe",
   "metadata": {},
   "source": [
    "# Async Functionality in Python"
   ]
  },
  {
   "cell_type": "markdown",
   "id": "f6429b98",
   "metadata": {},
   "source": [
    "#### We want to have Hot Choclate and Toast in the morning after waking up"
   ]
  },
  {
   "cell_type": "markdown",
   "id": "7d564f44",
   "metadata": {},
   "source": [
    "## Synchronous or Normal Version"
   ]
  },
  {
   "cell_type": "code",
   "execution_count": null,
   "id": "eec93c18",
   "metadata": {},
   "outputs": [
    {
     "name": "stdout",
     "output_type": "stream",
     "text": [
      "Brewing Hot Choclate\n",
      "Hot Choclate Ready\n",
      "Toasting Toast\n",
      "Toast Ready\n",
      "Time : 5.00 minutes\n"
     ]
    }
   ],
   "source": [
    "import time\n",
    "\n",
    "def make_hot_chocolate():\n",
    "    print(\"Making hot chocolate\")\n",
    "    time.sleep(3)  # 3 seconds\n",
    "    print(\"Hot chocolate is ready\")\n",
    "\n",
    "def toast_bread():\n",
    "    print(\"Toasting bread\")\n",
    "    time.sleep(2)  # 2 seconds\n",
    "    print(\"Toasted bread is ready\")\n",
    "\n",
    "def main():\n",
    "    start = time.time()\n",
    "\n",
    "    make_hot_chocolate()\n",
    "    toast_bread()\n",
    "\n",
    "    end = time.time()\n",
    "    print(f\"Time: {end - start:.2f} seconds\")\n",
    "\n",
    "main()"
   ]
  },
  {
   "cell_type": "markdown",
   "id": "9403f9d4",
   "metadata": {},
   "source": [
    "## Asynchronous Version"
   ]
  },
  {
   "cell_type": "code",
   "execution_count": null,
   "id": "f66b0f7c",
   "metadata": {},
   "outputs": [
    {
     "name": "stdout",
     "output_type": "stream",
     "text": [
      "Starting Brewing Hot Choclate\n",
      "Start Toasting Toast\n",
      "Toast Ready\n",
      "Hot Choclate Ready\n",
      "Time : 3.01 minutes\n"
     ]
    }
   ],
   "source": [
    "import asyncio\n",
    "import time\n",
    "\n",
    "async def make_hot_chocolate():\n",
    "    print(\"Starting to make hot chocolate\")\n",
    "    await asyncio.sleep(3)\n",
    "    print(\"Hot chocolate is ready\")\n",
    "\n",
    "async def toast_bread():\n",
    "    print(\"Starting to toast bread\")\n",
    "    await asyncio.sleep(2)\n",
    "    print(\"Toasted bread is ready\")\n",
    "\n",
    "async def main():\n",
    "    start = time.time()\n",
    "\n",
    "    hot_chocolate = make_hot_chocolate()\n",
    "    toasted_bread = toast_bread()\n",
    "\n",
    "    await asyncio.gather(hot_chocolate, toasted_bread)\n",
    "\n",
    "    end = time.time()\n",
    "\n",
    "    print(f\"Time: {end - start:.2f} minutes\")\n",
    "\n",
    "await main()"
   ]
  },
  {
   "cell_type": "markdown",
   "id": "b7201f66",
   "metadata": {},
   "source": [
    "## With Tasks"
   ]
  },
  {
   "cell_type": "code",
   "execution_count": 1,
   "id": "9de843eb",
   "metadata": {},
   "outputs": [
    {
     "name": "stdout",
     "output_type": "stream",
     "text": [
      "Starting to make Hot Chocolate\n",
      "Starting to Toast Bread\n",
      "Toasted Bread is ready\n",
      "Hot Chocolate is ready\n",
      "Time: 3.01 minutes\n"
     ]
    }
   ],
   "source": [
    "import asyncio\n",
    "import time\n",
    "\n",
    "async def make_hot_chocolate_async():\n",
    "    print(\"Starting to make Hot Chocolate\")\n",
    "    await asyncio.sleep(3)\n",
    "    print(\"Hot Chocolate is ready\")\n",
    "\n",
    "async def toast_bread_async():\n",
    "    print(\"Starting to Toast Bread\")\n",
    "    await asyncio.sleep(2)\n",
    "    print(\"Toasted Bread is ready\")\n",
    "\n",
    "async def main_individual():\n",
    "    start = time.time()\n",
    "\n",
    "    hot_chocolate_task = asyncio.create_task(make_hot_chocolate_async())\n",
    "    toast_task = asyncio.create_task(toast_bread_async())\n",
    "\n",
    "    await hot_chocolate_task\n",
    "    await toast_task\n",
    "\n",
    "    end = time.time()\n",
    "    print(f\"Time: {end - start:.2f} minutes\")\n",
    "\n",
    "\n",
    "await main_individual()"
   ]
  }
 ],
 "metadata": {
  "kernelspec": {
   "display_name": "Python 3",
   "language": "python",
   "name": "python3"
  },
  "language_info": {
   "codemirror_mode": {
    "name": "ipython",
    "version": 3
   },
   "file_extension": ".py",
   "mimetype": "text/x-python",
   "name": "python",
   "nbconvert_exporter": "python",
   "pygments_lexer": "ipython3",
   "version": "3.12.0"
  }
 },
 "nbformat": 4,
 "nbformat_minor": 5
}
