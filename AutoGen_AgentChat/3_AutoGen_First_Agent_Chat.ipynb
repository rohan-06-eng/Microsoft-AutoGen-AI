{
 "cells": [
  {
   "cell_type": "markdown",
   "id": "007a34c0",
   "metadata": {},
   "source": [
    "### Introduction to AgentChat API with First AssistantAgent  \n",
    "We’ll use the AgentChat API to create a simple `AssistantAgent` and explore its capabilities.  "
   ]
  },
  {
   "cell_type": "code",
   "execution_count": 1,
   "id": "95867bad",
   "metadata": {},
   "outputs": [],
   "source": [
    "from autogen_agentchat.agents import AssistantAgent\n",
    "from autogen_ext.models.openai import OpenAIChatCompletionClient\n",
    "from dotenv import load_dotenv\n",
    "import os\n",
    "\n",
    "load_dotenv()\n",
    "api_key = os.getenv('OPENAI_API_KEY')"
   ]
  },
  {
   "cell_type": "code",
   "execution_count": 2,
   "id": "c647fa05",
   "metadata": {},
   "outputs": [],
   "source": [
    "model_client = OpenAIChatCompletionClient(model = 'gpt-4',api_key=api_key)"
   ]
  },
  {
   "cell_type": "markdown",
   "id": "8f8a5027",
   "metadata": {},
   "source": [
    "#### Creating Our First AssistantAgent  \n",
    "The `AssistantAgent` is a versatile agent for conversations, powered by AgentChat.  "
   ]
  },
  {
   "cell_type": "code",
   "execution_count": 3,
   "id": "ad6136af",
   "metadata": {},
   "outputs": [],
   "source": [
    "assistant = AssistantAgent(name = \"assistant\",model_client=model_client)"
   ]
  },
  {
   "cell_type": "markdown",
   "id": "0ee781d8",
   "metadata": {},
   "source": [
    "#### Testing the AssistantAgent  \n",
    "We’ll use the `run` method to send a task and get a response.  "
   ]
  },
  {
   "cell_type": "code",
   "execution_count": 7,
   "id": "b032f8fd",
   "metadata": {},
   "outputs": [
    {
     "name": "stdout",
     "output_type": "stream",
     "text": [
      "messages=[TextMessage(id='33bff797-64e1-444f-b4df-2b60679fd2f7', source='user', models_usage=None, metadata={}, created_at=datetime.datetime(2025, 7, 25, 7, 51, 16, 306872, tzinfo=datetime.timezone.utc), content=\"What's the capital of India ?\", type='TextMessage'), TextMessage(id='19050010-507b-4409-abfe-e9d87d328c76', source='assistant', models_usage=RequestUsage(prompt_tokens=66, completion_tokens=8), metadata={}, created_at=datetime.datetime(2025, 7, 25, 7, 51, 18, 357837, tzinfo=datetime.timezone.utc), content='The capital of India is New Delhi.', type='TextMessage')] stop_reason=None\n"
     ]
    }
   ],
   "source": [
    "result = await assistant.run(task=\"What's the capital of India ?\")\n",
    "print(result)"
   ]
  },
  {
   "cell_type": "code",
   "execution_count": 9,
   "id": "46702a35",
   "metadata": {},
   "outputs": [
    {
     "name": "stdout",
     "output_type": "stream",
     "text": [
      "[TextMessage(id='33bff797-64e1-444f-b4df-2b60679fd2f7', source='user', models_usage=None, metadata={}, created_at=datetime.datetime(2025, 7, 25, 7, 51, 16, 306872, tzinfo=datetime.timezone.utc), content=\"What's the capital of India ?\", type='TextMessage'), TextMessage(id='19050010-507b-4409-abfe-e9d87d328c76', source='assistant', models_usage=RequestUsage(prompt_tokens=66, completion_tokens=8), metadata={}, created_at=datetime.datetime(2025, 7, 25, 7, 51, 18, 357837, tzinfo=datetime.timezone.utc), content='The capital of India is New Delhi.', type='TextMessage')]\n"
     ]
    }
   ],
   "source": [
    "print(result.messages)"
   ]
  },
  {
   "cell_type": "code",
   "execution_count": 10,
   "id": "e8665d67",
   "metadata": {},
   "outputs": [
    {
     "name": "stdout",
     "output_type": "stream",
     "text": [
      "The capital of India is New Delhi.\n"
     ]
    }
   ],
   "source": [
    "print(result.messages[-1].content)"
   ]
  }
 ],
 "metadata": {
  "kernelspec": {
   "display_name": "Python 3",
   "language": "python",
   "name": "python3"
  },
  "language_info": {
   "codemirror_mode": {
    "name": "ipython",
    "version": 3
   },
   "file_extension": ".py",
   "mimetype": "text/x-python",
   "name": "python",
   "nbconvert_exporter": "python",
   "pygments_lexer": "ipython3",
   "version": "3.12.0"
  }
 },
 "nbformat": 4,
 "nbformat_minor": 5
}
