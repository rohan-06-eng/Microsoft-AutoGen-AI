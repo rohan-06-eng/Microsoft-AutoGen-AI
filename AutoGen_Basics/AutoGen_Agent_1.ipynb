{
 "cells": [
  {
   "cell_type": "markdown",
   "id": "817e84d7",
   "metadata": {},
   "source": [
    "## First AutoGen Agent (v0.4)\n",
    "In this notebook, we’ll build a simple agent using AutoGen v0.4 and OpenAI’s GPT-4. We’ll ask it a fun question and see how it responds. This is the latest version, so you’re learning the cutting-edge way to create AI agents!"
   ]
  },
  {
   "cell_type": "code",
   "execution_count": 1,
   "id": "b999adf4",
   "metadata": {},
   "outputs": [],
   "source": [
    "from autogen_agentchat.agents import AssistantAgent\n",
    "from autogen_ext.models.openai import OpenAIChatCompletionClient\n",
    "from dotenv import load_dotenv\n",
    "import os\n",
    "\n",
    "load_dotenv()\n",
    "\n",
    "api_key = os.getenv('OPENAI_API_KEY')"
   ]
  },
  {
   "cell_type": "markdown",
   "id": "cf2513fc",
   "metadata": {},
   "source": [
    "### Connecting to the Model\n",
    "We use `OpenAIChatCompletionClient` to link our agent to GPT-4. In v0.4, this replaces the older `llm_config` approach."
   ]
  },
  {
   "cell_type": "code",
   "execution_count": 13,
   "id": "7268084f",
   "metadata": {},
   "outputs": [],
   "source": [
    "model_client = OpenAIChatCompletionClient(model='gpt-4o',api_key=api_key)"
   ]
  },
  {
   "cell_type": "markdown",
   "id": "0b84e3b3",
   "metadata": {},
   "source": [
    "### Building the Agent\n",
    "The `AssistantAgent` is a conversational AI that can respond to tasks. We’ll give it a name and connect it to our model."
   ]
  },
  {
   "cell_type": "code",
   "execution_count": 14,
   "id": "de3b270a",
   "metadata": {},
   "outputs": [],
   "source": [
    "assistant = AssistantAgent(name = 'my_assistant',model_client=model_client)"
   ]
  },
  {
   "cell_type": "markdown",
   "id": "0bde9fbb",
   "metadata": {},
   "source": [
    "### Asking the Agent a Question\n",
    "We’ll use the `run` method—a simple way in v0.4 to get a response. Watch this!"
   ]
  },
  {
   "cell_type": "code",
   "execution_count": 23,
   "id": "1b3a0d23",
   "metadata": {},
   "outputs": [
    {
     "name": "stdout",
     "output_type": "stream",
     "text": [
      "messages=[TextMessage(id='c4feafdb-3d5b-43ba-9d28-5846d07d03c1', source='user', models_usage=None, metadata={}, created_at=datetime.datetime(2025, 7, 22, 9, 36, 36, 527420, tzinfo=datetime.timezone.utc), content='Who is father of Indian Space Program?', type='TextMessage'), TextMessage(id='2a176a04-458c-4aaf-9462-b1e8e23cb774', source='my_assistant', models_usage=RequestUsage(prompt_tokens=178, completion_tokens=66), metadata={}, created_at=datetime.datetime(2025, 7, 22, 9, 36, 37, 913218, tzinfo=datetime.timezone.utc), content=\"The father of the Indian Space Program is Dr. Vikram Sarabhai. He was instrumental in establishing the foundations of India's space research and development initiatives and was the driving force behind the creation of the Indian National Committee for Space Research (INCOSPAR), which eventually evolved into the Indian Space Research Organisation (ISRO). TERMINATE\", type='TextMessage')] stop_reason=None\n"
     ]
    }
   ],
   "source": [
    "result = await assistant.run(task = \"Who is father of Indian Space Program?\")\n",
    "print(result)"
   ]
  },
  {
   "cell_type": "code",
   "execution_count": 27,
   "id": "d270ae5e",
   "metadata": {},
   "outputs": [
    {
     "name": "stdout",
     "output_type": "stream",
     "text": [
      "The father of the Indian Space Program is Dr. Vikram Sarabhai. He was instrumental in establishing the foundations of India's space research and development initiatives and was the driving force behind the creation of the Indian National Committee for Space Research (INCOSPAR), which eventually evolved into the Indian Space Research Organisation (ISRO).\n"
     ]
    }
   ],
   "source": [
    "print(result.messages[-1].content.removesuffix(\" TERMINATE\"))"
   ]
  },
  {
   "cell_type": "code",
   "execution_count": 30,
   "id": "032ef949",
   "metadata": {},
   "outputs": [
    {
     "name": "stdout",
     "output_type": "stream",
     "text": [
      "5 + 25 equals 30.\n"
     ]
    }
   ],
   "source": [
    "result = await assistant.run(task = \"Tell me what is 5+25\")\n",
    "print(result.messages[-1].content.removesuffix(\" TERMINATE\"))\n"
   ]
  }
 ],
 "metadata": {
  "kernelspec": {
   "display_name": "Python 3",
   "language": "python",
   "name": "python3"
  },
  "language_info": {
   "codemirror_mode": {
    "name": "ipython",
    "version": 3
   },
   "file_extension": ".py",
   "mimetype": "text/x-python",
   "name": "python",
   "nbconvert_exporter": "python",
   "pygments_lexer": "ipython3",
   "version": "3.12.0"
  }
 },
 "nbformat": 4,
 "nbformat_minor": 5
}
